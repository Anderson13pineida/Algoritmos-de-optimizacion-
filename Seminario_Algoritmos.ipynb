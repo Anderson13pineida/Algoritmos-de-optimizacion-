{
  "cells": [
    {
      "cell_type": "markdown",
      "metadata": {
        "id": "view-in-github",
        "colab_type": "text"
      },
      "source": [
        "<a href=\"https://colab.research.google.com/github/Anderson13pineida/Algoritmos-de-optimizacion-/blob/main/Seminario_Algoritmos.ipynb\" target=\"_parent\"><img src=\"https://colab.research.google.com/assets/colab-badge.svg\" alt=\"Open In Colab\"/></a>"
      ]
    },
    {
      "cell_type": "markdown",
      "metadata": {
        "id": "hVbXYX-RfPWh"
      },
      "source": [
        "# Algoritmos de optimización - Seminario<br>\n",
        "Nombre y Apellidos: Anderson Stalin Pineida Escorza  <br>\n",
        "Url: https://github.com/.../03MAIR---Algoritmos-de-Optimizacion---2019/tree/master/SEMINARIO<br>\n",
        "Problema:\n",
        "> 1. Sesiones de doblaje <br>\n",
        "\n",
        "Descripción del problema:(copiar enunciado)\n",
        "\n",
        "Se precisa coordinar el doblaje de una película. Los actores del doblaje deben coincidir en las\n",
        "tomas en las que sus personajes aparecen juntos en las diferentes tomas. Los actores de\n",
        "doblaje cobran todos la misma cantidad por cada día que deben desplazarse hasta el estudio de\n",
        "grabación independientemente del número de tomas que se graben. No es posible grabar más\n",
        "de 6 tomas por día. El objetivo es planificar las sesiones por día de manera que el gasto por los\n",
        "servicios de los actores de doblaje sea el menor posible. Los datos son:\n",
        "\n",
        "\n",
        "![image.png](attachment:7afbe655-8764-4a1c-ba1f-8fbe24a10a3e.png)\n",
        "\n",
        "Número de actores: 10\n",
        "Número de tomas : 30\n",
        "\n",
        "- 1 indica que el actor participa en la toma\n",
        "- 0 en caso contrario\n",
        "\n",
        "\n",
        "\n",
        "\n",
        "\n",
        "\n",
        "                                        "
      ]
    },
    {
      "cell_type": "code",
      "execution_count": 1,
      "metadata": {
        "id": "AiskKkzZfy4e",
        "colab": {
          "base_uri": "https://localhost:8080/"
        },
        "outputId": "4d6fa948-7f34-4c1b-db9d-42854615f0c1"
      },
      "outputs": [
        {
          "output_type": "stream",
          "name": "stdout",
          "text": [
            "Optimal Schedule: [[14, 17, 18, 19, 23, 24]]\n",
            "Minimum Cost: 3\n"
          ]
        }
      ],
      "source": [
        "# Load and prepare the data\n",
        "data = {\n",
        "    'Toma': list(range(1, 31)),\n",
        "    'Actor_1': [1, 0, 0, 1, 0, 1, 1, 1, 1, 1, 1, 1, 1, 1, 1, 0, 1, 0, 1, 1, 0, 1, 1, 0, 1, 1, 0, 1, 1, 1],\n",
        "    'Actor_2': [1, 0, 1, 1, 1, 1, 1, 1, 1, 1, 1, 1, 0, 0, 1, 0, 0, 0, 0, 0, 0, 1, 0, 0, 1, 0, 0, 0, 0, 0],\n",
        "    'Actor_3': [1, 1, 0, 0, 0, 0, 0, 0, 0, 0, 1, 1, 0, 1, 0, 0, 1, 1, 1, 1, 0, 1, 1, 1, 0, 1, 0, 0, 0, 0],\n",
        "    'Actor_4': [1, 1, 0, 0, 1, 1, 1, 0, 1, 0, 0, 1, 1, 0, 0, 1, 0, 0, 0, 1, 0, 1, 0, 0, 1, 0, 1, 1, 0, 1],\n",
        "    'Actor_5': [1, 1, 1, 0, 0, 1, 1, 0, 0, 0, 1, 0, 1, 0, 0, 0, 0, 0, 0, 1, 0, 0, 0, 0, 0, 1, 1, 0, 1, 0],\n",
        "    'Actor_6': [0, 0, 0, 0, 0, 0, 0, 1, 0, 1, 0, 1, 0, 1, 0, 0, 0, 1, 0, 0, 1, 0, 0, 1, 0, 0, 0, 0, 1, 0],\n",
        "    'Actor_7': [0, 0, 1, 1, 0, 0, 0, 0, 0, 0, 0, 0, 0, 0, 1, 0, 0, 0, 0, 0, 0, 0, 0, 0, 0, 0, 0, 0, 0, 0],\n",
        "    'Actor_8': [0, 0, 0, 1, 1, 0, 0, 0, 0, 0, 1, 0, 0, 0, 0, 0, 0, 0, 0, 0, 1, 0, 0, 0, 0, 0, 0, 0, 0, 0],\n",
        "    'Actor_9': [0, 0, 0, 0, 0, 0, 0, 0, 0, 1, 0, 0, 0, 0, 0, 0, 0, 0, 0, 0, 0, 0, 0, 0, 0, 1, 0, 0, 0, 0],\n",
        "    'Actor_10': [0, 0, 0, 0, 0, 0, 0, 0, 0, 0, 0, 0, 0, 0, 0, 1, 0, 0, 0, 0, 0, 0, 0, 0, 1, 0, 0, 0, 0, 0],\n",
        "}\n",
        "\n",
        "def calculate_cost(schedule, data):\n",
        "    cost = 0\n",
        "    for day in schedule:\n",
        "        active_actors = [0] * 10\n",
        "        for toma in day:\n",
        "            index = data['Toma'].index(toma)\n",
        "            for actor in range(10):\n",
        "                active_actors[actor] |= data[f'Actor_{actor + 1}'][index]\n",
        "        cost += sum(active_actors)\n",
        "    return cost\n",
        "\n",
        "def generate_combinations(elements, max_length):\n",
        "    combinations = []\n",
        "    def backtrack(start, current):\n",
        "        if len(current) == max_length:\n",
        "            combinations.append(current[:])\n",
        "            return\n",
        "        for i in range(start, len(elements)):\n",
        "            current.append(elements[i])\n",
        "            backtrack(i + 1, current)\n",
        "            current.pop()\n",
        "    backtrack(0, [])\n",
        "    return combinations\n",
        "\n",
        "def optimize_schedule(data, max_takes_per_day):\n",
        "    all_takes = data['Toma']\n",
        "    possible_days = generate_combinations(all_takes, max_length=max_takes_per_day)\n",
        "    best_schedule = None\n",
        "    best_cost = float('inf')\n",
        "\n",
        "    for days in possible_days:\n",
        "        schedule = [days[i:i+max_takes_per_day] for i in range(0, len(days), max_takes_per_day)]\n",
        "        cost = calculate_cost(schedule, data)\n",
        "        if cost < best_cost:\n",
        "            best_cost = cost\n",
        "            best_schedule = schedule\n",
        "\n",
        "    return best_schedule, best_cost\n",
        "\n",
        "max_takes_per_day = 6\n",
        "optimal_schedule, minimum_cost = optimize_schedule(data, max_takes_per_day)\n",
        "print(\"Optimal Schedule:\", optimal_schedule)\n",
        "print(\"Minimum Cost:\", minimum_cost)\n",
        "\n"
      ]
    },
    {
      "cell_type": "markdown",
      "metadata": {
        "id": "3_-exlrTgLd-"
      },
      "source": [
        "### ¿Cuantas posibilidades hay sin tener en cuenta las restricciones?*<br>\n",
        "\n",
        "- **Número de tomas (n)**: 30\n",
        "- **Total de subconjuntos**:\n",
        "  $ 2^{30} - 1 = 1,073,741,823 $\n",
        "\n",
        "Por lo tanto, hay **1,073,741,823** posibilidades sin restricciones. Esto incluye todas las combinaciones posibles de tomas en un solo grupo.\n",
        "\n",
        "### ¿Cuantas posibilidades hay teniendo en cuenta todas las restricciones.\n",
        "\n",
        "\n"
      ]
    },
    {
      "cell_type": "code",
      "execution_count": 2,
      "metadata": {
        "id": "iq6Fe32MgpDX",
        "colab": {
          "base_uri": "https://localhost:8080/"
        },
        "outputId": "aa5449d5-3c04-4fc6-b6e3-7670230012cc"
      },
      "outputs": [
        {
          "output_type": "stream",
          "name": "stdout",
          "text": [
            "Total possible combinations with restrictions: 1206\n"
          ]
        }
      ],
      "source": [
        "def calculate_restricted_partitions_dp(total_takes, max_takes_per_day):\n",
        "\n",
        "    # Create a DP table where dp[i] represents the number of ways to partition `i` takes\n",
        "    dp = [0] * (total_takes + 1)\n",
        "    dp[0] = 1  # Base case: one way to partition 0 takes (empty partition)\n",
        "\n",
        "    # Iterate over possible group sizes\n",
        "    for group_size in range(1, max_takes_per_day + 1):\n",
        "        for i in range(group_size, total_takes + 1):\n",
        "            dp[i] += dp[i - group_size]\n",
        "\n",
        "    return dp[total_takes]\n",
        "\n",
        "# Ejemplo\n",
        "total_takes = 30  # Total number of takes\n",
        "max_takes_per_day = 6  # Maximum number of takes per day\n",
        "\n",
        "# Calculate restricted partitions\n",
        "restricted_combinations = calculate_restricted_partitions_dp(total_takes, max_takes_per_day)\n",
        "print(\"Total possible combinations with restrictions:\", restricted_combinations)\n"
      ]
    },
    {
      "cell_type": "markdown",
      "metadata": {
        "id": "dzynfVJahHoY"
      },
      "source": [
        "## Modelo para el espacio de soluciones<br>\n",
        "### ¿Cual es la estructura de datos que mejor se adapta al problema? Argumentalo.(Es posible que hayas elegido una al principio y veas la necesidad de cambiar, arguentalo)\n"
      ]
    },
    {
      "cell_type": "markdown",
      "metadata": {
        "id": "xFIJrOwKi2Ti"
      },
      "source": [
        "**Estructura de Datos Elegida:**\n",
        "**Tabla de Programación Dinámica (Lista Unidimensional)**  \n",
        "La estructura utilizada para modelar el espacio de soluciones es una lista unidimensional (`dp`), donde:\n",
        "- `dp[i]` representa el número de maneras en las que se pueden particionar `i` tomas cumpliendo con la restricción del tamaño máximo de grupos.\n",
        "\n",
        "---\n",
        "\n",
        "### **Se eligió esta estructura por:**\n",
        "- **Reducción del Espacio de Soluciones:**  \n",
        "  Evita explorar todas las combinaciones posibles explícitamente y almacena soluciones parciales ya calculadas.\n",
        "- **Eficiencia Espacial:**  \n",
        "  Utiliza una lista de tamaño \\( \\text{total_takes} + 1 \\), optimizando el uso de memoria.\n",
        "- **Reutilización de Resultados:**  \n",
        "  Aprovecha relaciones recursivas para calcular particiones sin recalcular soluciones previas.\n",
        "- **Escalabilidad:**  \n",
        "  Se adapta bien a problemas de gran tamaño al evitar enumerar combinaciones explícitas.\n",
        "\n",
        "---\n",
        "\n",
        "### **Posibilidad de Cambiar la Estructura**  \n",
        "Inicialmente, podría parecer que una lista bidimensional es más apropiada para guardar todas las combinaciones intermedias. Sin embargo:\n",
        "- La lista unidimensional es suficiente para calcular el número de particiones al reutilizar resultados previos.\n",
        "- Cambiar a una estructura más compleja aumentaría el uso de memoria sin mejorar la solución.\n",
        "\n",
        "---\n",
        "\n",
        "**Conclusión:**  \n",
        "La lista unidimensional elegida equilibra simplicidad, eficiencia y claridad, lo que la hace la mejor opción para este problema.\n"
      ]
    },
    {
      "cell_type": "markdown",
      "metadata": {
        "id": "7Z9U2W7bi-XS"
      },
      "source": [
        "Según el modelo para el espacio de soluciones<br>\n",
        "### (*)¿Cual es la función objetivo?\n",
        "\n",
        "La función objetivo en este código es:<br>\n",
        "\n",
        "Minimizar el costo total de las sesiones de grabación, determinado por el número de actores activos en las tomas grabadas cada día.\n",
        "\n",
        "Esto se calcula en la función calculate_cost(schedule, data), que:<br>\n",
        "\n",
        "- Evalúa cuántos actores están involucrados en cada día de grabación.\n",
        "- Suma el total de actores activos para todas las tomas del cronograma (schedule).\n",
        "\n",
        "### (*)¿Es un problema de maximización o minimización?\n",
        "Es un problema de minimización, ya que buscamos reducir al mínimo el costo asociado con los actores activos en las grabaciones. Esto implica encontrar el cronograma óptimo (optimal_schedule) que cumpla con las restricciones:<br>\n",
        "\n",
        "- Un máximo de 6 tomas por día (max_takes_per_day).\n",
        "- Minimizar el número de días necesarios para completar todas las tomas.\n"
      ]
    },
    {
      "cell_type": "markdown",
      "metadata": {
        "id": "rlnTYgY1j6I2"
      },
      "source": [
        "## Diseña un algoritmo para resolver el problema por fuerza bruta"
      ]
    },
    {
      "cell_type": "markdown",
      "metadata": {
        "id": "70rDgxYXkC8r"
      },
      "source": [
        "Algoritmo:\n",
        "Generar todas las combinaciones posibles de tomas para cada día:\n",
        "\n",
        "- Cada día puede contener hasta 6 tomas.\n",
        "    - Generar todas las combinaciones posibles de tomas con un tamaño máximo de 6.\n",
        "\n",
        "- Crear todas las particiones posibles:\n",
        "    - Usar las combinaciones generadas para formar todos los posibles cronogramas (particiones) que incluyan las 30 tomas.\n",
        "\n",
        "- Calcular el costo de cada partición:\n",
        "    - Para cada partición generada, calcular el costo total usando la función calculate_cost.\n",
        "\n",
        "- Seleccionar la partición con el costo mínimo:\n",
        "    - Comparar los costos calculados y guardar el cronograma que tenga el menor costo.\n"
      ]
    },
    {
      "cell_type": "code",
      "execution_count": null,
      "metadata": {
        "id": "CJb5sQ0qkENy"
      },
      "outputs": [],
      "source": [
        "from itertools import combinations\n",
        "\n",
        "def calculate_cost(schedule, data):\n",
        "    cost = 0\n",
        "    for day in schedule:\n",
        "        active_actors = [0] * 10\n",
        "        for toma in day:\n",
        "            index = data['Toma'].index(toma)\n",
        "            for actor in range(10):\n",
        "                active_actors[actor] |= data[f'Actor_{actor + 1}'][index]\n",
        "        cost += sum(active_actors)\n",
        "    return cost\n",
        "\n",
        "def generate_partitions(data, max_takes_per_day):\n",
        "    from itertools import chain, combinations\n",
        "\n",
        "    def all_partitions(elements):\n",
        "        if not elements:\n",
        "            return [[]]\n",
        "        result = []\n",
        "        for i in range(1, min(len(elements), max_takes_per_day) + 1):\n",
        "            for group in combinations(elements, i):\n",
        "                remaining = set(elements) - set(group)\n",
        "                for partition in all_partitions(list(remaining)):\n",
        "                    result.append([list(group)] + partition)\n",
        "        return result\n",
        "\n",
        "    return all_partitions(data['Toma'])\n",
        "\n",
        "def optimize_schedule_brute_force(data, max_takes_per_day):\n",
        "    all_partitions = generate_partitions(data, max_takes_per_day)\n",
        "    best_schedule = None\n",
        "    best_cost = float('inf')\n",
        "\n",
        "    for schedule in all_partitions:\n",
        "        cost = calculate_cost(schedule, data)\n",
        "        if cost < best_cost:\n",
        "            best_cost = cost\n",
        "            best_schedule = schedule\n",
        "\n",
        "    return best_schedule, best_cost\n",
        "\n",
        "# Datos y parámetros\n",
        "data = {\n",
        "    'Toma': list(range(1, 31)),\n",
        "    'Actor_1': [1, 0, 0, 1, 0, 1, 1, 1, 1, 1, 1, 1, 1, 1, 1, 0, 1, 0, 1, 1, 0, 1, 1, 0, 1, 1, 0, 1, 1, 1],\n",
        "    'Actor_2': [1, 0, 1, 1, 1, 1, 1, 1, 1, 1, 1, 1, 0, 0, 1, 0, 0, 0, 0, 0, 0, 1, 0, 0, 1, 0, 0, 0, 0, 0],\n",
        "    'Actor_3': [1, 1, 0, 0, 0, 0, 0, 0, 0, 0, 1, 1, 0, 1, 0, 0, 1, 1, 1, 1, 0, 1, 1, 1, 0, 1, 0, 0, 0, 0],\n",
        "    'Actor_4': [1, 1, 0, 0, 1, 1, 1, 0, 1, 0, 0, 1, 1, 0, 0, 1, 0, 0, 0, 1, 0, 1, 0, 0, 1, 0, 1, 1, 0, 1],\n",
        "    'Actor_5': [1, 1, 1, 0, 0, 1, 1, 0, 0, 0, 1, 0, 1, 0, 0, 0, 0, 0, 0, 1, 0, 0, 0, 0, 0, 1, 1, 0, 1, 0],\n",
        "    'Actor_6': [0, 0, 0, 0, 0, 0, 0, 1, 0, 1, 0, 1, 0, 1, 0, 0, 0, 1, 0, 0, 1, 0, 0, 1, 0, 0, 0, 0, 1, 0],\n",
        "    'Actor_7': [0, 0, 1, 1, 0, 0, 0, 0, 0, 0, 0, 0, 0, 0, 1, 0, 0, 0, 0, 0, 0, 0, 0, 0, 0, 0, 0, 0, 0, 0],\n",
        "    'Actor_8': [0, 0, 0, 1, 1, 0, 0, 0, 0, 0, 1, 0, 0, 0, 0, 0, 0, 0, 0, 0, 1, 0, 0, 0, 0, 0, 0, 0, 0, 0],\n",
        "    'Actor_9': [0, 0, 0, 0, 0, 0, 0, 0, 0, 1, 0, 0, 0, 0, 0, 0, 0, 0, 0, 0, 0, 0, 0, 0, 0, 1, 0, 0, 0, 0],\n",
        "    'Actor_10': [0, 0, 0, 0, 0, 0, 0, 0, 0, 0, 0, 0, 0, 0, 0, 1, 0, 0, 0, 0, 0, 0, 0, 0, 1, 0, 0, 0, 0, 0],\n",
        "}\n",
        "\n",
        "max_takes_per_day = 6\n",
        "optimal_schedule, minimum_cost = optimize_schedule_brute_force(data, max_takes_per_day)\n",
        "\n",
        "print(\"Optimal Schedule:\", optimal_schedule)\n",
        "print(\"Minimum Cost:\", minimum_cost)\n"
      ]
    },
    {
      "cell_type": "markdown",
      "metadata": {
        "id": "tgrnsC2nkFa8"
      },
      "source": [
        "## Calcula la complejidad del algoritmo por fuerza bruta"
      ]
    },
    {
      "cell_type": "markdown",
      "metadata": {
        "id": "9eUd3xwckP68"
      },
      "source": [
        "Generación de Particiones:\n",
        "- 𝑂\n",
        "(\n",
        "𝑛\n",
        "!\n",
        ")\n",
        "(creación de todas las particiones posibles).<br>\n",
        "\n",
        "Cálculo de Costo:\n",
        "- 𝑂\n",
        "(\n",
        "𝑝\n",
        "⋅\n",
        "𝑑\n",
        "⋅\n",
        "tomas_por_d\n",
        "ı\n",
        "a\n",
        ", donde\n",
        "𝑝\n",
        "p es el número de particiones.<br>\n",
        "\n",
        "\n",
        "\n",
        "La complejidad del algoritmo por fuerza bruta es aproximadamente:\n",
        "\n",
        "𝑂(𝑛!)\n",
        "Esto lo hace impráctico para valores grandes de\n",
        "𝑛(como 𝑛 = 30), ya que el tiempo de ejecución crecería astronómicamente.\n",
        "\n"
      ]
    },
    {
      "cell_type": "markdown",
      "metadata": {
        "id": "txbrmLmskReM"
      },
      "source": [
        "## (*)Diseña un algoritmo que mejore la complejidad del algortimo por fuerza bruta. Argumenta porque crees que mejora el algoritmo por fuerza bruta"
      ]
    },
    {
      "cell_type": "markdown",
      "metadata": {
        "id": "hLrVwt5QkZPD"
      },
      "source": [
        "Para mejorar la complejidad del algoritmo por fuerza bruta, utilizaremos programación dinámica. Este enfoque evita recalcular las mismas soluciones parciales varias veces, reutilizando resultados previamente calculados. Así, podemos reducir significativamente el tiempo de ejecución."
      ]
    },
    {
      "cell_type": "code",
      "execution_count": 1,
      "metadata": {
        "id": "m1eyM21Vkabg",
        "colab": {
          "base_uri": "https://localhost:8080/"
        },
        "outputId": "986d32b7-9164-4cea-b1c7-10d9155e119f"
      },
      "outputs": [
        {
          "output_type": "stream",
          "name": "stdout",
          "text": [
            "Minimum Cost: 38\n"
          ]
        }
      ],
      "source": [
        "def calculate_cost_day(takes, data):\n",
        "    \"\"\"\n",
        "    Calcula el costo de actores activos para un conjunto de tomas en un solo día.\n",
        "    \"\"\"\n",
        "    active_actors = [0] * 10\n",
        "    for toma in takes:\n",
        "        index = data['Toma'].index(toma)\n",
        "        for actor in range(10):\n",
        "            active_actors[actor] |= data[f'Actor_{actor + 1}'][index]\n",
        "    return sum(active_actors)\n",
        "\n",
        "def optimize_schedule_dp(data, max_takes_per_day):\n",
        "    \"\"\"\n",
        "    Optimiza el cronograma utilizando programación dinámica para minimizar el costo total.\n",
        "    \"\"\"\n",
        "    n = len(data['Toma'])  # Número total de tomas\n",
        "    dp = [float('inf')] * (n + 1)\n",
        "    dp[0] = 0  # Base case: costo 0 para 0 tomas\n",
        "\n",
        "    # Iterar sobre todas las tomas\n",
        "    for i in range(1, n + 1):\n",
        "        # Evaluar todas las particiones posibles del día actual\n",
        "        for j in range(1, min(i, max_takes_per_day) + 1):\n",
        "            cost = calculate_cost_day(data['Toma'][i-j:i], data)\n",
        "            dp[i] = min(dp[i], dp[i - j] + cost)\n",
        "\n",
        "    return dp[n]\n",
        "\n",
        "# Datos y parámetros\n",
        "data = {\n",
        "    'Toma': list(range(1, 31)),\n",
        "    'Actor_1': [1, 0, 0, 1, 0, 1, 1, 1, 1, 1, 1, 1, 1, 1, 1, 0, 1, 0, 1, 1, 0, 1, 1, 0, 1, 1, 0, 1, 1, 1],\n",
        "    'Actor_2': [1, 0, 1, 1, 1, 1, 1, 1, 1, 1, 1, 1, 0, 0, 1, 0, 0, 0, 0, 0, 0, 1, 0, 0, 1, 0, 0, 0, 0, 0],\n",
        "    'Actor_3': [1, 1, 0, 0, 0, 0, 0, 0, 0, 0, 1, 1, 0, 1, 0, 0, 1, 1, 1, 1, 0, 1, 1, 1, 0, 1, 0, 0, 0, 0],\n",
        "    'Actor_4': [1, 1, 0, 0, 1, 1, 1, 0, 1, 0, 0, 1, 1, 0, 0, 1, 0, 0, 0, 1, 0, 1, 0, 0, 1, 0, 1, 1, 0, 1],\n",
        "    'Actor_5': [1, 1, 1, 0, 0, 1, 1, 0, 0, 0, 1, 0, 1, 0, 0, 0, 0, 0, 0, 1, 0, 0, 0, 0, 0, 1, 1, 0, 1, 0],\n",
        "    'Actor_6': [0, 0, 0, 0, 0, 0, 0, 1, 0, 1, 0, 1, 0, 1, 0, 0, 0, 1, 0, 0, 1, 0, 0, 1, 0, 0, 0, 0, 1, 0],\n",
        "    'Actor_7': [0, 0, 1, 1, 0, 0, 0, 0, 0, 0, 0, 0, 0, 0, 1, 0, 0, 0, 0, 0, 0, 0, 0, 0, 0, 0, 0, 0, 0, 0],\n",
        "    'Actor_8': [0, 0, 0, 1, 1, 0, 0, 0, 0, 0, 1, 0, 0, 0, 0, 0, 0, 0, 0, 0, 1, 0, 0, 0, 0, 0, 0, 0, 0, 0],\n",
        "    'Actor_9': [0, 0, 0, 0, 0, 0, 0, 0, 0, 1, 0, 0, 0, 0, 0, 0, 0, 0, 0, 0, 0, 0, 0, 0, 0, 1, 0, 0, 0, 0],\n",
        "    'Actor_10': [0, 0, 0, 0, 0, 0, 0, 0, 0, 0, 0, 0, 0, 0, 0, 1, 0, 0, 0, 0, 0, 0, 0, 0, 1, 0, 0, 0, 0, 0],\n",
        "}\n",
        "\n",
        "max_takes_per_day = 6\n",
        "minimum_cost = optimize_schedule_dp(data, max_takes_per_day)\n",
        "print(\"Minimum Cost:\", minimum_cost)\n"
      ]
    },
    {
      "cell_type": "markdown",
      "metadata": {
        "id": "eGDB4K6uk1iN"
      },
      "source": [
        "## (*)Calcula la complejidad del algoritmo"
      ]
    },
    {
      "cell_type": "markdown",
      "metadata": {
        "id": "NhpTh_BPk1ms"
      },
      "source": [
        "### **Complejidad del Algoritmo Optimizado**\n",
        "\n",
        "El algoritmo optimizado tiene una complejidad de:\n",
        "$O(n.k^2)$\n",
        "\n",
        "Donde:\n",
        "- \\( n \\): Número total de tomas.\n",
        "- \\( k \\): Tamaño máximo de tomas por día.\n",
        "\n",
        "### **Análisis:**\n",
        "1. **Llenado de la Tabla DP:**  \n",
        "   Para cada \\( i \\) (toma), se evalúan hasta \\( k \\) particiones posibles. Cada partición requiere \\( O(k) \\) operaciones para calcular el costo.  \n",
        "   - Complejidad total: $O(n.k^2)$\n",
        "\n",
        "2. **Comparación con Fuerza Bruta:**  \n",
        "   - **Fuerza Bruta:** $O(n!) $\n",
        "   - **Optimizado:** $ O(n.k^2)   $\n",
        "\n",
        "### **Conclusión:**  \n",
        "El algoritmo optimizado reduce significativamente la complejidad, pasando de un crecimiento factorial a uno polinómico, haciéndolo mucho más eficiente y escalable.\n"
      ]
    },
    {
      "cell_type": "markdown",
      "metadata": {
        "id": "3M6QjTsSkmYe"
      },
      "source": [
        "## Según el problema (y tenga sentido), diseña un juego de datos de entrada aleatorios"
      ]
    },
    {
      "cell_type": "markdown",
      "metadata": {
        "id": "Jc3_OlyNkvjZ"
      },
      "source": [
        "Diseño del Juego de Datos de Entrada <br>\n",
        "*Número de Tomas (𝑛):* <br>\n",
        "- Generaremos 𝑛 = 30 tomas, numeradas del 1 al 30.\n",
        "\n",
        "*Número de Actores (𝑚):* <br>\n",
        "\n",
        "- Habrá 𝑚 =10 actores, numerados del 1 al 10.<br>\n",
        "\n",
        "*Participación de Actores en Tomas:* <br>\n",
        "- Para cada toma, seleccionaremos aleatoriamente qué actores participan.\n",
        "- Cada actor tendrá una probabilidad diferente de aparecer en una toma.\n"
      ]
    },
    {
      "cell_type": "code",
      "execution_count": null,
      "metadata": {
        "id": "sJ-N2etjkyWc",
        "outputId": "b4d05a0b-feaa-4856-f71c-78de1ee55bfe"
      },
      "outputs": [
        {
          "name": "stdout",
          "output_type": "stream",
          "text": [
            "Toma: [1, 2, 3, 4, 5, 6, 7, 8, 9, 10, 11, 12, 13, 14, 15, 16, 17, 18, 19, 20, 21, 22, 23, 24, 25, 26, 27, 28, 29, 30]\n",
            "Actor_1: [1, 1, 1, 1, 0, 0, 1, 1, 1, 1, 0, 0, 1, 0, 1, 0, 0, 1, 1, 0, 1, 1, 1, 1, 1, 1, 1, 0, 1, 1]\n",
            "Actor_2: [0, 1, 1, 0, 1, 1, 0, 0, 0, 1, 0, 0, 0, 0, 1, 1, 1, 0, 0, 0, 1, 0, 1, 0, 0, 0, 0, 1, 1, 0]\n",
            "Actor_3: [0, 0, 1, 0, 1, 1, 1, 1, 1, 1, 1, 0, 1, 0, 1, 0, 0, 1, 1, 0, 1, 0, 0, 1, 1, 0, 1, 0, 0, 1]\n",
            "Actor_4: [1, 0, 1, 0, 1, 0, 0, 0, 1, 1, 0, 1, 1, 1, 0, 1, 0, 1, 1, 1, 0, 1, 0, 0, 1, 0, 0, 0, 0, 1]\n",
            "Actor_5: [0, 1, 1, 1, 1, 0, 1, 1, 0, 0, 1, 1, 0, 1, 0, 1, 0, 1, 0, 0, 0, 0, 1, 0, 1, 1, 1, 0, 1, 1]\n",
            "Actor_6: [1, 1, 1, 0, 0, 0, 0, 0, 1, 1, 0, 1, 0, 1, 0, 0, 0, 1, 1, 0, 1, 1, 0, 0, 1, 0, 0, 0, 0, 0]\n",
            "Actor_7: [0, 0, 0, 1, 0, 1, 1, 0, 0, 1, 0, 1, 0, 1, 0, 0, 1, 0, 0, 0, 1, 0, 0, 1, 1, 0, 0, 1, 1, 1]\n",
            "Actor_8: [0, 1, 0, 1, 1, 0, 1, 1, 0, 1, 0, 1, 0, 0, 1, 0, 1, 1, 0, 0, 1, 1, 1, 0, 0, 1, 0, 1, 0, 1]\n",
            "Actor_9: [1, 1, 0, 1, 0, 0, 1, 1, 1, 0, 1, 1, 1, 0, 1, 1, 1, 0, 1, 0, 1, 0, 1, 1, 1, 0, 0, 1, 1, 1]\n",
            "Actor_10: [0, 0, 0, 0, 0, 0, 0, 1, 0, 0, 1, 1, 0, 0, 0, 1, 1, 1, 0, 1, 0, 0, 0, 1, 0, 0, 0, 0, 1, 0]\n"
          ]
        }
      ],
      "source": [
        "import random\n",
        "\n",
        "def generate_random_data(num_takes=30, num_actors=10, actor_participation_prob=None):\n",
        "    \"\"\"\n",
        "    Genera un conjunto de datos aleatorios para el problema.\n",
        "    :param num_takes: Número total de tomas (default: 30)\n",
        "    :param num_actors: Número total de actores (default: 10)\n",
        "    :param actor_participation_prob: Lista con la probabilidad de participación de cada actor (default: None)\n",
        "    :return: Diccionario de datos en el formato esperado por el problema\n",
        "    \"\"\"\n",
        "    # Si no se especifica, asignar probabilidades aleatorias para cada actor\n",
        "    if actor_participation_prob is None:\n",
        "        actor_participation_prob = [random.uniform(0.2, 0.8) for _ in range(num_actors)]\n",
        "\n",
        "    data = {\"Toma\": list(range(1, num_takes + 1))}\n",
        "    for actor in range(1, num_actors + 1):\n",
        "        data[f\"Actor_{actor}\"] = [\n",
        "            1 if random.random() < actor_participation_prob[actor - 1] else 0\n",
        "            for _ in range(num_takes)\n",
        "        ]\n",
        "\n",
        "    return data\n",
        "\n",
        "# Generar datos de prueba\n",
        "random_data = generate_random_data()\n",
        "\n",
        "# Imprimir un ejemplo del juego de datos generado\n",
        "for key, value in random_data.items():\n",
        "    print(f\"{key}: {value}\")\n"
      ]
    },
    {
      "cell_type": "markdown",
      "metadata": {
        "id": "zy5ZROmjlGo1"
      },
      "source": [
        "## Aplica el algoritmo al juego de datos generado"
      ]
    },
    {
      "cell_type": "code",
      "execution_count": null,
      "metadata": {
        "id": "Jkx8GeiYlUz1",
        "outputId": "39b34beb-1855-4058-8ca9-ab1c6afe6c88"
      },
      "outputs": [
        {
          "name": "stdout",
          "output_type": "stream",
          "text": [
            "Datos guardados en random_data.json\n"
          ]
        }
      ],
      "source": [
        "import random\n",
        "\n",
        "def generate_random_data(num_takes=30, num_actors=10, actor_participation_prob=None):\n",
        "    \"\"\"\n",
        "    Genera un conjunto de datos aleatorios para el problema y los guarda en un archivo.\n",
        "    \"\"\"\n",
        "    if actor_participation_prob is None:\n",
        "        actor_participation_prob = [random.uniform(0.2, 0.8) for _ in range(num_actors)]\n",
        "\n",
        "    data = {\"Toma\": list(range(1, num_takes + 1))}\n",
        "    for actor in range(1, num_actors + 1):\n",
        "        data[f\"Actor_{actor}\"] = [\n",
        "            1 if random.random() < actor_participation_prob[actor - 1] else 0\n",
        "            for _ in range(num_takes)\n",
        "        ]\n",
        "\n",
        "    # Guardar los datos en un archivo\n",
        "    import json\n",
        "    with open(\"random_data.json\", \"w\") as f:\n",
        "        json.dump(data, f)\n",
        "\n",
        "    print(\"Datos guardados en random_data.json\")\n",
        "\n",
        "# Generar y guardar los datos\n",
        "generate_random_data()\n",
        "\n",
        "\n",
        "\n"
      ]
    },
    {
      "cell_type": "code",
      "execution_count": null,
      "metadata": {
        "id": "qdsgrkCnlntc",
        "outputId": "b7bfc031-24fb-487e-b355-f202d97b9441"
      },
      "outputs": [
        {
          "name": "stdout",
          "output_type": "stream",
          "text": [
            "Optimal Schedule: [[1, 11, 19, 20, 24, 29]]\n",
            "Minimum Cost: 6\n"
          ]
        }
      ],
      "source": [
        "import json\n",
        "\n",
        "def load_data(filename=\"random_data.json\"):\n",
        "    \"\"\"Carga los datos generados desde un archivo JSON.\"\"\"\n",
        "    with open(filename, \"r\") as f:\n",
        "        return json.load(f)\n",
        "\n",
        "def calculate_cost(schedule, data):\n",
        "    cost = 0\n",
        "    for day in schedule:\n",
        "        active_actors = [0] * 10\n",
        "        for toma in day:\n",
        "            index = data['Toma'].index(toma)\n",
        "            for actor in range(10):\n",
        "                active_actors[actor] |= data[f'Actor_{actor + 1}'][index]\n",
        "        cost += sum(active_actors)\n",
        "    return cost\n",
        "\n",
        "def generate_combinations(elements, max_length):\n",
        "    combinations = []\n",
        "    def backtrack(start, current):\n",
        "        if len(current) == max_length:\n",
        "            combinations.append(current[:])\n",
        "            return\n",
        "        for i in range(start, len(elements)):\n",
        "            current.append(elements[i])\n",
        "            backtrack(i + 1, current)\n",
        "            current.pop()\n",
        "    backtrack(0, [])\n",
        "    return combinations\n",
        "\n",
        "def optimize_schedule(data, max_takes_per_day):\n",
        "    all_takes = data['Toma']\n",
        "    possible_days = generate_combinations(all_takes, max_length=max_takes_per_day)\n",
        "    best_schedule = None\n",
        "    best_cost = float('inf')\n",
        "\n",
        "    for days in possible_days:\n",
        "        schedule = [days[i:i+max_takes_per_day] for i in range(0, len(days), max_takes_per_day)]\n",
        "        cost = calculate_cost(schedule, data)\n",
        "        if cost < best_cost:\n",
        "            best_cost = cost\n",
        "            best_schedule = schedule\n",
        "\n",
        "    return best_schedule, best_cost\n",
        "\n",
        "# Cargar datos y ejecutar optimización\n",
        "data = load_data()\n",
        "max_takes_per_day = 6\n",
        "optimal_schedule, minimum_cost = optimize_schedule(data, max_takes_per_day)\n",
        "print(\"Optimal Schedule:\", optimal_schedule)\n",
        "print(\"Minimum Cost:\", minimum_cost)\n"
      ]
    },
    {
      "cell_type": "markdown",
      "metadata": {
        "id": "eTFWUJQrtGcv"
      },
      "source": [
        "Enumera las referencias que has utilizado(si ha sido necesario) para llevar a cabo el trabajo"
      ]
    },
    {
      "cell_type": "markdown",
      "metadata": {
        "id": "YKQ_mRBttWsP"
      },
      "source": [
        "## **Referencias Utilizadas**\n",
        "\n",
        "1. **Conceptos de Programación Dinámica y Optimización Combinatoria**\n",
        "   - Cormen, T. H., Leiserson, C. E., Rivest, R. L., & Stein, C. (2009). *Introduction to Algorithms* (3rd ed.). MIT Press.\n",
        "   - Kleinberg, J., & Tardos, E. (2005). *Algorithm Design*. Pearson.\n",
        "\n",
        "2. **Generación de Datos Aleatorios en Python**\n",
        "   - Documentación oficial de Python sobre el módulo random: [https://docs.python.org/3/library/random.html](https://docs.python.org/3/library/random.html)\n",
        "   - Uso del módulo json para guardar y cargar datos: [https://docs.python.org/3/library/json.html](https://docs.python.org/3/library/json.html)\n",
        "\n",
        "3. **Optimización de Cronogramas**\n",
        "   - Técnicas de planificación y optimización de recursos en la literatura de programación combinatoria.\n",
        "\n",
        "4. **Estructuras de Datos y Complejidad Computacional**\n",
        "   - Goodrich, M. T., & Tamassia, R. (2014). *Data Structures and Algorithms in Python*. Wiley.\n",
        "\n",
        "\n"
      ]
    },
    {
      "cell_type": "markdown",
      "metadata": {
        "id": "kAkDPUyRtYyH"
      },
      "source": [
        "### Describe brevemente las lineas de como crees que es posible avanzar en el estudio del problema. Ten en cuenta incluso posibles variaciones del problema y/o variaciones al alza del tamaño"
      ]
    },
    {
      "cell_type": "markdown",
      "metadata": {
        "id": "IE0uZmo-tZu-"
      },
      "source": [
        "## **Líneas de Avance en el Estudio del Problema**\n",
        "\n",
        "Para mejorar y extender el estudio del problema de optimización del cronograma de doblaje, se pueden considerar varias líneas de investigación y desarrollo:\n",
        "\n",
        "### **1. Mejora de la Eficiencia Algorítmica**\n",
        "- Implementación de algoritmos más eficientes como *Backtracking con Poda* o *Branch and Bound* para reducir la cantidad de combinaciones evaluadas.\n",
        "- Aplicación de *Programación Dinámica Avanzada*, como *Memoization* y *Programación Dinámica con Estados Reducidos*, para disminuir la complejidad temporal.\n",
        "- Uso de *Heurísticas* (algoritmos voraces, búsqueda local) para obtener soluciones aproximadas en menos tiempo.\n",
        "\n",
        "### **2. Escalabilidad para Problemas de Mayor Tamaño**\n",
        "- Adaptar el algoritmo para manejar un número mayor de tomas (por ejemplo, 100 o más en lugar de 30).\n",
        "- Implementación de versiones paralelas del algoritmo que aprovechen múltiples núcleos de CPU o computación distribuida para dividir el problema en subproblemas más pequeños.\n",
        "\n",
        "### **3. Variaciones del Problema**\n",
        "- **Restricciones de Tiempo:** Incorporar límites en el tiempo total de grabación diaria, además del número de tomas por día.\n",
        "- **Costos Diferenciados:** Introducir costos variables para cada actor dependiendo del día o de la cantidad de tomas grabadas.\n",
        "- **Disponibilidad de Actores:** Considerar que algunos actores pueden no estar disponibles en ciertos días, lo que impacta en la planificación.\n",
        "- **Grabaciones en Múltiples Estudio:** Optimizar el uso de diferentes estudios de grabación simultáneamente para mejorar la eficiencia.\n",
        "\n",
        "### **4. Aplicación de Inteligencia Artificial y Aprendizaje Automático**\n",
        "- Uso de *algoritmos de optimización basados en aprendizaje reforzado* para encontrar patrones en la distribución óptima de tomas.\n",
        "- Aplicación de *Redes Neuronales* para predecir la mejor asignación de tomas en función de datos históricos.\n",
        "\n",
        "### **5. Análisis de Complejidad y Comparación de Métodos**\n",
        "- Realizar pruebas experimentales con distintos tamaños de problema y comparar la eficiencia de diferentes enfoques.\n",
        "- Evaluar la aplicabilidad de técnicas de optimización exactas (Programación Entera) frente a técnicas heurísticas.\n",
        "\n",
        "Estas líneas de investigación permitirán mejorar la solución actual y adaptar el modelo a escenarios más complejos y realistas.\n"
      ]
    },
    {
      "cell_type": "code",
      "execution_count": null,
      "metadata": {
        "id": "4j81yOn7lntd"
      },
      "outputs": [],
      "source": []
    }
  ],
  "metadata": {
    "colab": {
      "provenance": [],
      "include_colab_link": true
    },
    "kernelspec": {
      "display_name": "Python 3",
      "name": "python3"
    },
    "language_info": {
      "codemirror_mode": {
        "name": "ipython",
        "version": 3
      },
      "file_extension": ".py",
      "mimetype": "text/x-python",
      "name": "python",
      "nbconvert_exporter": "python",
      "pygments_lexer": "ipython3",
      "version": "3.12.8"
    }
  },
  "nbformat": 4,
  "nbformat_minor": 0
}